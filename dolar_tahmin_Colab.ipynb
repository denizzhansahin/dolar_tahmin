{
  "nbformat": 4,
  "nbformat_minor": 0,
  "metadata": {
    "colab": {
      "name": "Untitled23.ipynb",
      "provenance": [],
      "collapsed_sections": []
    },
    "kernelspec": {
      "name": "python3",
      "display_name": "Python 3"
    },
    "language_info": {
      "name": "python"
    }
  },
  "cells": [
    {
      "cell_type": "code",
      "execution_count": 174,
      "metadata": {
        "id": "qcS6es82K9Od"
      },
      "outputs": [],
      "source": [
        "import pandas as pd\n",
        "import numpy as np\n",
        "import matplotlib.pyplot as plt"
      ]
    },
    {
      "cell_type": "code",
      "source": [
        "veriler = pd.read_csv(\"dolar_veri.csv\")\n",
        "print(veriler)"
      ],
      "metadata": {
        "id": "QqOB9eu5LGtH"
      },
      "execution_count": null,
      "outputs": []
    },
    {
      "cell_type": "code",
      "source": [
        "x = veriler.iloc[:,0:1] #gunler\n",
        "y = veriler.iloc[:, 1:2] #veriler\n",
        "\"\"\"\n",
        "print(x)\n",
        "print(y)\n",
        "print(type(x))\n",
        "\"\"\"\n",
        "print(x.shape)\n",
        "dolar_list = list(x.shape)\n",
        "gun_veri = dolar_list[0] + 1\n",
        "print(gun_veri)"
      ],
      "metadata": {
        "colab": {
          "base_uri": "https://localhost:8080/",
          "height": 0
        },
        "id": "VvaJHS5MLrfq",
        "outputId": "b0995dee-06f0-45d1-f581-f9e8d33b8e0b"
      },
      "execution_count": 176,
      "outputs": [
        {
          "output_type": "stream",
          "name": "stdout",
          "text": [
            "(30, 1)\n",
            "31\n"
          ]
        }
      ]
    },
    {
      "cell_type": "code",
      "source": [
        "X = x.values\n",
        "Y = y.values"
      ],
      "metadata": {
        "id": "aGLp42VFMExK"
      },
      "execution_count": 177,
      "outputs": []
    },
    {
      "cell_type": "code",
      "source": [
        "print(X)\n",
        "print(Y)"
      ],
      "metadata": {
        "id": "jCJsBYB3MH3G"
      },
      "execution_count": null,
      "outputs": []
    },
    {
      "cell_type": "code",
      "source": [
        "print(type(X))"
      ],
      "metadata": {
        "colab": {
          "base_uri": "https://localhost:8080/",
          "height": 0
        },
        "id": "NUSKD0sugcpb",
        "outputId": "de1b5ae0-298a-4ad7-e2a5-8438bb0e5aaf"
      },
      "execution_count": 71,
      "outputs": [
        {
          "output_type": "stream",
          "name": "stdout",
          "text": [
            "<class 'numpy.ndarray'>\n"
          ]
        }
      ]
    },
    {
      "cell_type": "code",
      "source": [
        "from sklearn.linear_model import LinearRegression\n",
        "lin_reg = LinearRegression()\n",
        "lin_reg.fit(X,Y)\n",
        "plt.plot(X,Y,color=\"red\")\n",
        "plt.plot(x,lin_reg.predict(X),color=\"blue\")\n",
        "plt.title(\"Son {} Gün Dolar Grafiği\".format(gun_veri))\n",
        "plt.xlabel(\"Günler\")\n",
        "plt.ylabel(\"Değerler\")\n",
        "plt.show()"
      ],
      "metadata": {
        "id": "71hGhYlVMO4k",
        "colab": {
          "base_uri": "https://localhost:8080/",
          "height": 295
        },
        "outputId": "9a198df1-c307-4e86-8366-2761cf84b09e"
      },
      "execution_count": 178,
      "outputs": [
        {
          "output_type": "display_data",
          "data": {
            "text/plain": [
              "<Figure size 432x288 with 1 Axes>"
            ],
            "image/png": "[encoded data removed]"
          },
          "metadata": {
            "needs_background": "light"
          }
        }
      ]
    },
    {
      "cell_type": "code",
      "source": [
        "#27 temmuzda itibaren alınan Google verileri kullanıştır. Bugünü 26 agustos olarak esas alınız. Bulunduğunuz gunden itibaren kaç gün sonrasını tahmin etmek için sayı giriniz.\n",
        "#en fazla 60 güne kadar sayı yazınız. 26 temmuzdan sonraki günleri verisi tahmin edilecektir.\n",
        "print(\"Gun Yazınız: \")\n",
        "gun = int(input())"
      ],
      "metadata": {
        "colab": {
          "base_uri": "https://localhost:8080/",
          "height": 0
        },
        "id": "DMIHDFT8Tw_3",
        "outputId": "0d419905-9e39-44e6-8da4-879e887c76f6"
      },
      "execution_count": 179,
      "outputs": [
        {
          "name": "stdout",
          "output_type": "stream",
          "text": [
            "Gun Yazınız: \n",
            "25\n"
          ]
        }
      ]
    },
    {
      "cell_type": "code",
      "source": [
        "degerList = []"
      ],
      "metadata": {
        "id": "4vCPmn1uoX0w"
      },
      "execution_count": 180,
      "outputs": []
    },
    {
      "cell_type": "code",
      "source": [
        "#print(lin_reg.predict([[23]]))\n",
        "for i in range(gun):\n",
        "  print(\"Önünüzdeki \",i+1,\".gün tahmini\")\n",
        "  print(lin_reg.predict([[i+gun]]))\n",
        "  sayi = lin_reg.predict([[i+gun]])\n",
        "  degerList.append(sayi)"
      ],
      "metadata": {
        "id": "zwuUYLgbNVjQ",
        "colab": {
          "base_uri": "https://localhost:8080/",
          "height": 0
        },
        "outputId": "f80b22cc-b5fd-429a-f225-3ddd4d5b7454"
      },
      "execution_count": 181,
      "outputs": [
        {
          "output_type": "stream",
          "name": "stdout",
          "text": [
            "Önünüzdeki  1 .gün tahmini\n",
            "[[18.0655614]]\n",
            "Önünüzdeki  2 .gün tahmini\n",
            "[[18.0742787]]\n",
            "Önünüzdeki  3 .gün tahmini\n",
            "[[18.08299599]]\n",
            "Önünüzdeki  4 .gün tahmini\n",
            "[[18.09171328]]\n",
            "Önünüzdeki  5 .gün tahmini\n",
            "[[18.10043058]]\n",
            "Önünüzdeki  6 .gün tahmini\n",
            "[[18.10914787]]\n",
            "Önünüzdeki  7 .gün tahmini\n",
            "[[18.11786516]]\n",
            "Önünüzdeki  8 .gün tahmini\n",
            "[[18.12658245]]\n",
            "Önünüzdeki  9 .gün tahmini\n",
            "[[18.13529975]]\n",
            "Önünüzdeki  10 .gün tahmini\n",
            "[[18.14401704]]\n",
            "Önünüzdeki  11 .gün tahmini\n",
            "[[18.15273433]]\n",
            "Önünüzdeki  12 .gün tahmini\n",
            "[[18.16145163]]\n",
            "Önünüzdeki  13 .gün tahmini\n",
            "[[18.17016892]]\n",
            "Önünüzdeki  14 .gün tahmini\n",
            "[[18.17888621]]\n",
            "Önünüzdeki  15 .gün tahmini\n",
            "[[18.18760351]]\n",
            "Önünüzdeki  16 .gün tahmini\n",
            "[[18.1963208]]\n",
            "Önünüzdeki  17 .gün tahmini\n",
            "[[18.20503809]]\n",
            "Önünüzdeki  18 .gün tahmini\n",
            "[[18.21375539]]\n",
            "Önünüzdeki  19 .gün tahmini\n",
            "[[18.22247268]]\n",
            "Önünüzdeki  20 .gün tahmini\n",
            "[[18.23118997]]\n",
            "Önünüzdeki  21 .gün tahmini\n",
            "[[18.23990727]]\n",
            "Önünüzdeki  22 .gün tahmini\n",
            "[[18.24862456]]\n",
            "Önünüzdeki  23 .gün tahmini\n",
            "[[18.25734185]]\n",
            "Önünüzdeki  24 .gün tahmini\n",
            "[[18.26605914]]\n",
            "Önünüzdeki  25 .gün tahmini\n",
            "[[18.27477644]]\n"
          ]
        }
      ]
    },
    {
      "cell_type": "code",
      "source": [
        "degerlist2 = []\n",
        "for i in range(gun):\n",
        "  b = float(degerList[i])\n",
        "  degerlist2.append(b)\n",
        "print(degerlist2)"
      ],
      "metadata": {
        "colab": {
          "base_uri": "https://localhost:8080/",
          "height": 0
        },
        "id": "Lzn3M_91pHCM",
        "outputId": "79223ef2-0d64-4c71-9da2-eb3be0c04d2c"
      },
      "execution_count": 182,
      "outputs": [
        {
          "output_type": "stream",
          "name": "stdout",
          "text": [
            "[18.065561402524544, 18.074278695652172, 18.082995988779803, 18.09171328190743, 18.100430575035062, 18.109147868162694, 18.11786516129032, 18.126582454417953, 18.13529974754558, 18.144017040673212, 18.15273433380084, 18.16145162692847, 18.1701689200561, 18.17888621318373, 18.187603506311362, 18.19632079943899, 18.20503809256662, 18.21375538569425, 18.22247267882188, 18.231189971949508, 18.23990726507714, 18.248624558204767, 18.2573418513324, 18.266059144460026, 18.274776437587658]\n"
          ]
        }
      ]
    },
    {
      "cell_type": "code",
      "source": [
        "ls_gun = []\n",
        "for i in range(gun):\n",
        "  ls_gun.append(i+1)\n",
        "print(ls_gun)\n",
        "\n"
      ],
      "metadata": {
        "colab": {
          "base_uri": "https://localhost:8080/",
          "height": 0
        },
        "id": "f9NterX2gFND",
        "outputId": "bb89f55a-ba2e-4215-b5d9-6027006c311d"
      },
      "execution_count": 183,
      "outputs": [
        {
          "output_type": "stream",
          "name": "stdout",
          "text": [
            "[1, 2, 3, 4, 5, 6, 7, 8, 9, 10, 11, 12, 13, 14, 15, 16, 17, 18, 19, 20, 21, 22, 23, 24, 25]\n"
          ]
        }
      ]
    },
    {
      "cell_type": "code",
      "source": [
        "isim = ['gun']\n",
        "veriseti = pd.DataFrame(data=ls_gun, columns=isim)\n",
        "print(veriseti)\n",
        "\n",
        "isim2 = ['deger']\n",
        "veriseti2 = pd.DataFrame(data=degerlist2, columns=isim2)\n",
        "print(veriseti2)"
      ],
      "metadata": {
        "colab": {
          "base_uri": "https://localhost:8080/",
          "height": 0
        },
        "id": "oDr151Dcl0Mq",
        "outputId": "4347a084-16f6-4f25-aa97-7fc670a7ded1"
      },
      "execution_count": 184,
      "outputs": [
        {
          "output_type": "stream",
          "name": "stdout",
          "text": [
            "    gun\n",
            "0     1\n",
            "1     2\n",
            "2     3\n",
            "3     4\n",
            "4     5\n",
            "5     6\n",
            "6     7\n",
            "7     8\n",
            "8     9\n",
            "9    10\n",
            "10   11\n",
            "11   12\n",
            "12   13\n",
            "13   14\n",
            "14   15\n",
            "15   16\n",
            "16   17\n",
            "17   18\n",
            "18   19\n",
            "19   20\n",
            "20   21\n",
            "21   22\n",
            "22   23\n",
            "23   24\n",
            "24   25\n",
            "        deger\n",
            "0   18.065561\n",
            "1   18.074279\n",
            "2   18.082996\n",
            "3   18.091713\n",
            "4   18.100431\n",
            "5   18.109148\n",
            "6   18.117865\n",
            "7   18.126582\n",
            "8   18.135300\n",
            "9   18.144017\n",
            "10  18.152734\n",
            "11  18.161452\n",
            "12  18.170169\n",
            "13  18.178886\n",
            "14  18.187604\n",
            "15  18.196321\n",
            "16  18.205038\n",
            "17  18.213755\n",
            "18  18.222473\n",
            "19  18.231190\n",
            "20  18.239907\n",
            "21  18.248625\n",
            "22  18.257342\n",
            "23  18.266059\n",
            "24  18.274776\n"
          ]
        }
      ]
    },
    {
      "cell_type": "code",
      "source": [
        "x_gun = veriseti.iloc[:,0:1]\n",
        "y_deger = veriseti2.iloc[:,0:1]\n",
        "\n",
        "A = x_gun.values\n",
        "B = y_deger.values\n",
        "\n",
        "print(A)\n",
        "print(B)\n",
        "\n",
        "from sklearn.linear_model import LinearRegression\n",
        "lin_reg2 = LinearRegression()\n",
        "lin_reg2.fit(A,B)\n",
        "plt.plot(A,B,color=\"red\")\n",
        "#plt.plot(x_gun,lin_reg2.predict(A),color=\"blue\")\n",
        "plt.title(\"Gelecek {} Gün Dolar Tahmin Grafiği\".format(gun))\n",
        "plt.xlabel(\"Günler\")\n",
        "plt.ylabel(\"Değerler\")\n",
        "plt.show()"
      ],
      "metadata": {
        "colab": {
          "base_uri": "https://localhost:8080/",
          "height": 1163
        },
        "id": "5TyL4BrAuzLs",
        "outputId": "3de82947-13a4-4144-ac11-3e82134d4cb6"
      },
      "execution_count": 189,
      "outputs": [
        {
          "output_type": "stream",
          "name": "stdout",
          "text": [
            "[[ 1]\n",
            " [ 2]\n",
            " [ 3]\n",
            " [ 4]\n",
            " [ 5]\n",
            " [ 6]\n",
            " [ 7]\n",
            " [ 8]\n",
            " [ 9]\n",
            " [10]\n",
            " [11]\n",
            " [12]\n",
            " [13]\n",
            " [14]\n",
            " [15]\n",
            " [16]\n",
            " [17]\n",
            " [18]\n",
            " [19]\n",
            " [20]\n",
            " [21]\n",
            " [22]\n",
            " [23]\n",
            " [24]\n",
            " [25]]\n",
            "[[18.0655614 ]\n",
            " [18.0742787 ]\n",
            " [18.08299599]\n",
            " [18.09171328]\n",
            " [18.10043058]\n",
            " [18.10914787]\n",
            " [18.11786516]\n",
            " [18.12658245]\n",
            " [18.13529975]\n",
            " [18.14401704]\n",
            " [18.15273433]\n",
            " [18.16145163]\n",
            " [18.17016892]\n",
            " [18.17888621]\n",
            " [18.18760351]\n",
            " [18.1963208 ]\n",
            " [18.20503809]\n",
            " [18.21375539]\n",
            " [18.22247268]\n",
            " [18.23118997]\n",
            " [18.23990727]\n",
            " [18.24862456]\n",
            " [18.25734185]\n",
            " [18.26605914]\n",
            " [18.27477644]]\n"
          ]
        },
        {
          "output_type": "display_data",
          "data": {
            "text/plain": [
              "<Figure size 432x288 with 1 Axes>"
            ],
            "image/png": "[encoded data removed]"
          },
          "metadata": {
            "needs_background": "light"
          }
        }
      ]
    }
  ]
}